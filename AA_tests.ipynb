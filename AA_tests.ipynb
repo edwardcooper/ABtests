{
 "cells": [
  {
   "cell_type": "markdown",
   "metadata": {},
   "source": [
    "# AA tests"
   ]
  },
  {
   "cell_type": "markdown",
   "metadata": {},
   "source": [
    "## Goal: \n",
    "\n",
    ">**1. Does the holiday season greatly affect the results?**\n",
    "\n",
    ">**2. Are the sampling process random?**\n",
    "\n",
    "\n",
    "\n",
    "It is not ideal to test either control/experiment group directly with other group as the data in other group is not indepedent of the experiment/control group. \n",
    "\n",
    "It is more appropriate to test the change in the user behavior in time. \n",
    "\n",
    "For this purpose, we need to separate the other group into `other_exp group` and `other_con` group.\n",
    "\n",
    "\n",
    "\n",
    "The experiment time is from `2017-12-12 00:00:00` to `2018-01-08 23:59:59`.\n",
    "\n",
    "The rest of the time is the non-experiment time. \n"
   ]
  },
  {
   "cell_type": "markdown",
   "metadata": {},
   "source": [
    "## Group assignment \n",
    "\n",
    "\n",
    "`Experiment group`: in experiment time, id starts with either (\"b\",\"c\",\"e\",\"f\",\"5\").\n",
    "\n",
    "`Control group`: in experiment time, id **doesn't** start with (\"b\",\"c\",\"e\",\"f\",\"5\").\n",
    " \n",
    "`other_exp group`: not in experiment time, id starts with (\"b\",\"c\",\"e\",\"f\",\"5\")\n",
    "\n",
    "`other_con group`: not in experiment time, id **doesn't** start with (\"b\",\"c\",\"e\",\"f\",\"5\")"
   ]
  },
  {
   "cell_type": "code",
   "execution_count": 1,
   "metadata": {},
   "outputs": [],
   "source": [
    "import pandas as pd\n",
    "from scipy.stats import ttest_rel\n",
    "from scipy.stats import chi2_contingency\n",
    "from scipy.stats import mannwhitneyu\n",
    "import matplotlib.pyplot as plt\n",
    "import seaborn as sns\n",
    "\n",
    "import numpy as np"
   ]
  },
  {
   "cell_type": "code",
   "execution_count": 2,
   "metadata": {},
   "outputs": [],
   "source": [
    "analytics = pd.read_csv(\"./data/clean_analytics.csv\")"
   ]
  },
  {
   "cell_type": "code",
   "execution_count": 3,
   "metadata": {},
   "outputs": [],
   "source": [
    "analytics['time_used'] = analytics['event_end'] - analytics['event_start']"
   ]
  },
  {
   "cell_type": "code",
   "execution_count": 4,
   "metadata": {},
   "outputs": [
    {
     "data": {
      "text/plain": [
       "Other         148380\n",
       "Control       111963\n",
       "Experiment     52450\n",
       "Name: assignment, dtype: int64"
      ]
     },
     "execution_count": 4,
     "metadata": {},
     "output_type": "execute_result"
    }
   ],
   "source": [
    "analytics['assignment'].value_counts()"
   ]
  },
  {
   "cell_type": "code",
   "execution_count": 5,
   "metadata": {},
   "outputs": [],
   "source": [
    "def id_group_assign(user_id):\n",
    "    char = user_id[0]\n",
    "    if char in (\"b\",\"c\",\"e\",\"f\",\"5\"):\n",
    "        result = \"Experiment\"\n",
    "    elif char not in (\"b\",\"c\",\"e\",\"f\",\"5\"):\n",
    "        result = \"Control\"\n",
    "        \n",
    "    return result\n",
    "\n",
    "\n",
    "def time_group_assign(unix_time, lower = 1513036800 ,upper = 1515455999):\n",
    "    if lower <= unix_time <= upper:\n",
    "        result = \"Experiment\"\n",
    "    elif unix_time > upper or unix_time < lower:\n",
    "        result = \"Control\"\n",
    "        \n",
    "    return result"
   ]
  },
  {
   "cell_type": "code",
   "execution_count": 6,
   "metadata": {},
   "outputs": [],
   "source": [
    "analytics['id_assign'] = analytics['user_B'].apply(id_group_assign)\n",
    "\n",
    "analytics['time_assign'] = analytics['event_start'].apply(time_group_assign)"
   ]
  },
  {
   "cell_type": "code",
   "execution_count": 7,
   "metadata": {
    "scrolled": true
   },
   "outputs": [
    {
     "data": {
      "text/html": [
       "<div>\n",
       "<style scoped>\n",
       "    .dataframe tbody tr th:only-of-type {\n",
       "        vertical-align: middle;\n",
       "    }\n",
       "\n",
       "    .dataframe tbody tr th {\n",
       "        vertical-align: top;\n",
       "    }\n",
       "\n",
       "    .dataframe thead th {\n",
       "        text-align: right;\n",
       "    }\n",
       "</style>\n",
       "<table border=\"1\" class=\"dataframe\">\n",
       "  <thead>\n",
       "    <tr style=\"text-align: right;\">\n",
       "      <th></th>\n",
       "      <th>user_A</th>\n",
       "      <th>user_B</th>\n",
       "      <th>event_start</th>\n",
       "      <th>event_end</th>\n",
       "      <th>assignment</th>\n",
       "      <th>time_used</th>\n",
       "      <th>id_assign</th>\n",
       "      <th>time_assign</th>\n",
       "    </tr>\n",
       "  </thead>\n",
       "  <tbody>\n",
       "    <tr>\n",
       "      <th>0</th>\n",
       "      <td>c8501e4e-7914-411b-9d0c-96a3180d0daa</td>\n",
       "      <td>4380277a-5cb8-42d7-8b21-2a7daba6906f</td>\n",
       "      <td>1.516901e+09</td>\n",
       "      <td>1.516907e+09</td>\n",
       "      <td>Other</td>\n",
       "      <td>6251.0</td>\n",
       "      <td>Control</td>\n",
       "      <td>Control</td>\n",
       "    </tr>\n",
       "    <tr>\n",
       "      <th>1</th>\n",
       "      <td>1b906005-3fc7-44df-a93f-cc7afdf11bd4</td>\n",
       "      <td>6427b7f4-9223-4bfb-8d9b-e19abeeb387e</td>\n",
       "      <td>1.516901e+09</td>\n",
       "      <td>NaN</td>\n",
       "      <td>Other</td>\n",
       "      <td>NaN</td>\n",
       "      <td>Control</td>\n",
       "      <td>Control</td>\n",
       "    </tr>\n",
       "    <tr>\n",
       "      <th>2</th>\n",
       "      <td>36cbbb08-5794-43f2-92d1-c6313ac355f8</td>\n",
       "      <td>c8270f60-5ce2-4df0-9487-eb6fd1ca2369</td>\n",
       "      <td>1.516814e+09</td>\n",
       "      <td>1.516901e+09</td>\n",
       "      <td>Other</td>\n",
       "      <td>87191.0</td>\n",
       "      <td>Experiment</td>\n",
       "      <td>Control</td>\n",
       "    </tr>\n",
       "    <tr>\n",
       "      <th>3</th>\n",
       "      <td>329d3d52-ce78-4d3a-8a91-f765a31e0319</td>\n",
       "      <td>5d1a38a1-39ce-4640-8c3c-bb010e9a64ab</td>\n",
       "      <td>1.514399e+09</td>\n",
       "      <td>1.514410e+09</td>\n",
       "      <td>Experiment</td>\n",
       "      <td>10966.0</td>\n",
       "      <td>Experiment</td>\n",
       "      <td>Experiment</td>\n",
       "    </tr>\n",
       "    <tr>\n",
       "      <th>4</th>\n",
       "      <td>82f959c6-559d-4d51-8323-0c41a0741f4a</td>\n",
       "      <td>de77a7b7-b2af-4738-9d3b-4948d23f0f57</td>\n",
       "      <td>1.514410e+09</td>\n",
       "      <td>1.514739e+09</td>\n",
       "      <td>Control</td>\n",
       "      <td>329044.0</td>\n",
       "      <td>Control</td>\n",
       "      <td>Experiment</td>\n",
       "    </tr>\n",
       "  </tbody>\n",
       "</table>\n",
       "</div>"
      ],
      "text/plain": [
       "                                 user_A                                user_B  \\\n",
       "0  c8501e4e-7914-411b-9d0c-96a3180d0daa  4380277a-5cb8-42d7-8b21-2a7daba6906f   \n",
       "1  1b906005-3fc7-44df-a93f-cc7afdf11bd4  6427b7f4-9223-4bfb-8d9b-e19abeeb387e   \n",
       "2  36cbbb08-5794-43f2-92d1-c6313ac355f8  c8270f60-5ce2-4df0-9487-eb6fd1ca2369   \n",
       "3  329d3d52-ce78-4d3a-8a91-f765a31e0319  5d1a38a1-39ce-4640-8c3c-bb010e9a64ab   \n",
       "4  82f959c6-559d-4d51-8323-0c41a0741f4a  de77a7b7-b2af-4738-9d3b-4948d23f0f57   \n",
       "\n",
       "    event_start     event_end  assignment  time_used   id_assign time_assign  \n",
       "0  1.516901e+09  1.516907e+09       Other     6251.0     Control     Control  \n",
       "1  1.516901e+09           NaN       Other        NaN     Control     Control  \n",
       "2  1.516814e+09  1.516901e+09       Other    87191.0  Experiment     Control  \n",
       "3  1.514399e+09  1.514410e+09  Experiment    10966.0  Experiment  Experiment  \n",
       "4  1.514410e+09  1.514739e+09     Control   329044.0     Control  Experiment  "
      ]
     },
     "execution_count": 7,
     "metadata": {},
     "output_type": "execute_result"
    }
   ],
   "source": [
    "analytics.head()"
   ]
  },
  {
   "cell_type": "markdown",
   "metadata": {},
   "source": [
    "## Hypothesis testing 1\n",
    "\n",
    "> What is the effect of Holliday season on proportion of mutual relationships formed?\n",
    "\n",
    "The `control group` and `other_con group` data will be used here. \n",
    "\n",
    "1. Define `p1` to be the percentage of users that formed a mutual relationship in the `control` group. \n",
    "\n",
    "2. Define `p2` to be the percentage of users that formed a mutual relationship in the `other_con` group.\n",
    "\n",
    "`Null hypothesis: p1 and p2 are independent of the group split (p1 = p2)`\n",
    "\n",
    "`Alternative hypothesis: p1 and p2 are not independent of the group split (p1 not equal p2)`\n",
    "\n",
    "The type-I error rate is set to a standard 5%. \n",
    "\n",
    "`Chi-squared test` used.\n"
   ]
  },
  {
   "cell_type": "code",
   "execution_count": 8,
   "metadata": {},
   "outputs": [],
   "source": [
    "control_id_index = analytics['id_assign'] == \"Control\"\n",
    "\n",
    "control_time_index = analytics['time_assign'] == \"Control\"\n",
    "exp_time_index = analytics['time_assign'] == \"Experiment\"\n",
    "\n",
    "na_time_index = analytics['event_end'].isna()\n",
    "\n",
    "notna_time_index = analytics['event_end'].notna()"
   ]
  },
  {
   "cell_type": "code",
   "execution_count": 9,
   "metadata": {},
   "outputs": [],
   "source": [
    "control_id_data = analytics[control_id_index].copy()"
   ]
  },
  {
   "cell_type": "code",
   "execution_count": 10,
   "metadata": {},
   "outputs": [],
   "source": [
    "control_time_mutual = control_id_data.loc[control_time_index & notna_time_index].shape[0]\n",
    "control_time_none = control_id_data.loc[control_time_index & na_time_index].shape[0]\n",
    "\n",
    "exp_time_mutual = control_id_data.loc[exp_time_index & notna_time_index].shape[0]\n",
    "exp_time_none = control_id_data.loc[exp_time_index & na_time_index].shape[0]"
   ]
  },
  {
   "cell_type": "code",
   "execution_count": 11,
   "metadata": {},
   "outputs": [],
   "source": [
    "obs = [[control_time_mutual,control_time_none ],[exp_time_mutual, exp_time_none]]"
   ]
  },
  {
   "cell_type": "code",
   "execution_count": 12,
   "metadata": {},
   "outputs": [
    {
     "data": {
      "text/plain": [
       "[[43833, 57777], [59449, 52514]]"
      ]
     },
     "execution_count": 12,
     "metadata": {},
     "output_type": "execute_result"
    }
   ],
   "source": [
    "obs"
   ]
  },
  {
   "cell_type": "code",
   "execution_count": 13,
   "metadata": {},
   "outputs": [],
   "source": [
    "chi2, p, dof, ex = chi2_contingency(obs, correction=True)"
   ]
  },
  {
   "cell_type": "code",
   "execution_count": 14,
   "metadata": {},
   "outputs": [
    {
     "data": {
      "text/plain": [
       "0.0"
      ]
     },
     "execution_count": 14,
     "metadata": {},
     "output_type": "execute_result"
    }
   ],
   "source": [
    "p"
   ]
  },
  {
   "cell_type": "markdown",
   "metadata": {},
   "source": [
    "### The p-value for this independence test is  smaller than 0.05.\n",
    "\n",
    "**The null hypothesis is rejected.**\n",
    "\n",
    "There is a significant difference between the proportions of people that formed a mutual relationship in experiment(Holiday) time  and non-experiment(non-Holiday) time."
   ]
  },
  {
   "cell_type": "code",
   "execution_count": 49,
   "metadata": {},
   "outputs": [
    {
     "data": {
      "text/plain": [
       "0.4313847062297018"
      ]
     },
     "execution_count": 49,
     "metadata": {},
     "output_type": "execute_result"
    }
   ],
   "source": [
    "control_time_percentage = control_time_mutual/ (control_time_mutual + control_time_none)\n",
    "control_time_percentage"
   ]
  },
  {
   "cell_type": "code",
   "execution_count": 16,
   "metadata": {},
   "outputs": [
    {
     "data": {
      "text/plain": [
       "0.5309700526066647"
      ]
     },
     "execution_count": 16,
     "metadata": {},
     "output_type": "execute_result"
    }
   ],
   "source": [
    "exp_time_percentage = exp_time_mutual/(exp_time_mutual + exp_time_none)\n",
    "exp_time_percentage"
   ]
  },
  {
   "cell_type": "markdown",
   "metadata": {},
   "source": [
    "The other_con group has `43.13%` of users that formed the mutual relationship, while the control group has a `53.09%` of users that formed the mutual relationship. "
   ]
  },
  {
   "cell_type": "code",
   "execution_count": 17,
   "metadata": {},
   "outputs": [
    {
     "data": {
      "text/plain": [
       "0.2308504333575891"
      ]
     },
     "execution_count": 17,
     "metadata": {},
     "output_type": "execute_result"
    }
   ],
   "source": [
    "(exp_time_percentage - control_time_percentage )/ control_time_percentage"
   ]
  },
  {
   "cell_type": "markdown",
   "metadata": {},
   "source": [
    "## Holiday season has a great effect on the proportions of people that forms a mutual relationship (23.08% increase)."
   ]
  },
  {
   "cell_type": "markdown",
   "metadata": {},
   "source": [
    "## Hypothesis testing 2\n",
    "\n",
    "> What is the effect of Holliday season on the median time take to form a mutual relationship?\n",
    "\n",
    "The `control group` and `other_con group` data will be used here. \n",
    "\n",
    "\n",
    "`Null hypothesis: The distribution of time used in forming a mutual relationship is the same for control and other_con group. `\n",
    "\n",
    "`Alternative hypothesis:  The distribution of time used in forming a mutual relationship is not the same for control and other_con group. `\n",
    "\n",
    "The type-I error rate is set to a standard 5%. \n",
    "\n",
    "The `Wilcoxon rank-sum test` will be used here. "
   ]
  },
  {
   "cell_type": "code",
   "execution_count": 18,
   "metadata": {},
   "outputs": [],
   "source": [
    "control_id_index = analytics['id_assign'] == \"Control\"\n",
    "\n",
    "control_id_data = analytics[control_id_index].copy()"
   ]
  },
  {
   "cell_type": "code",
   "execution_count": 19,
   "metadata": {},
   "outputs": [],
   "source": [
    "control_time_index = analytics['time_assign'] == \"Control\"\n",
    "exp_time_index = analytics['time_assign'] == \"Experiment\"\n",
    "\n",
    "notna_time_index = analytics['event_end'].notna()"
   ]
  },
  {
   "cell_type": "code",
   "execution_count": 20,
   "metadata": {},
   "outputs": [],
   "source": [
    "experitment_time = control_id_data.loc[exp_time_index & notna_time_index, \"time_used\"].values\n",
    "control_time = control_id_data.loc[control_time_index & notna_time_index, \"time_used\"].values"
   ]
  },
  {
   "cell_type": "code",
   "execution_count": 21,
   "metadata": {},
   "outputs": [],
   "source": [
    "stats, p = mannwhitneyu(experitment_time, control_time, alternative = \"two-sided\")"
   ]
  },
  {
   "cell_type": "code",
   "execution_count": 22,
   "metadata": {},
   "outputs": [
    {
     "data": {
      "text/plain": [
       "3.6988623080962823e-135"
      ]
     },
     "execution_count": 22,
     "metadata": {},
     "output_type": "execute_result"
    }
   ],
   "source": [
    "p"
   ]
  },
  {
   "cell_type": "markdown",
   "metadata": {},
   "source": [
    "### The p-value for this test is  much smaller than 0.05.\n",
    "\n",
    "**The null hypothesis is rejected.**\n",
    "\n",
    "The median value for the control group and the other_con group is different. "
   ]
  },
  {
   "cell_type": "code",
   "execution_count": 23,
   "metadata": {},
   "outputs": [
    {
     "data": {
      "text/plain": [
       "53905.0"
      ]
     },
     "execution_count": 23,
     "metadata": {},
     "output_type": "execute_result"
    }
   ],
   "source": [
    "np.median(experitment_time)"
   ]
  },
  {
   "cell_type": "code",
   "execution_count": 24,
   "metadata": {},
   "outputs": [
    {
     "data": {
      "text/plain": [
       "34621.0"
      ]
     },
     "execution_count": 24,
     "metadata": {},
     "output_type": "execute_result"
    }
   ],
   "source": [
    "np.median(control_time)"
   ]
  },
  {
   "cell_type": "code",
   "execution_count": 25,
   "metadata": {},
   "outputs": [
    {
     "data": {
      "text/plain": [
       "0.55700297507293262"
      ]
     },
     "execution_count": 25,
     "metadata": {},
     "output_type": "execute_result"
    }
   ],
   "source": [
    "(np.median(experitment_time) - np.median(control_time) )/np.median(control_time)"
   ]
  },
  {
   "cell_type": "markdown",
   "metadata": {},
   "source": [
    "## There is a 55% increase in median time used to form a mutual relationship in holiday season compared to the non-Holiday season."
   ]
  },
  {
   "cell_type": "markdown",
   "metadata": {},
   "source": [
    "## Hypothesis testing 3\n",
    "\n",
    "> Is the sampling process random?\n",
    "\n",
    "\n",
    "The `other_exp group` and `other_con group` data will be used here. \n",
    "\n",
    "1. Define `p1` to be the percentage of users that formed a mutual relationship in the other_exp group. \n",
    "\n",
    "2. Define `p2` to be the percentage of users that formed a mutual relationship in the other_con group.\n",
    "\n",
    "`Null hypothesis: p1 and p2 are independent of the group split (p1 = p2)`\n",
    "\n",
    "`Alternative hypothesis: p1 and p2 are not independent of the group split (p1 not equal p2)`\n",
    "\n",
    "The type-I error rate is set to a standard 5%. \n",
    "\n",
    "`Chi-squared test` used."
   ]
  },
  {
   "cell_type": "code",
   "execution_count": 26,
   "metadata": {},
   "outputs": [],
   "source": [
    "control_time_index = analytics['time_assign'] == \"Control\"\n",
    "\n",
    "control_id_index = analytics['id_assign'] == \"Control\"\n",
    "exp_id_index = analytics['id_assign'] == \"Experiment\"\n",
    "\n",
    "na_time_index = analytics['event_end'].isna()\n",
    "\n",
    "notna_time_index = analytics['event_end'].notna()"
   ]
  },
  {
   "cell_type": "code",
   "execution_count": 27,
   "metadata": {},
   "outputs": [],
   "source": [
    "control_time_data = analytics[control_time_index].copy()"
   ]
  },
  {
   "cell_type": "code",
   "execution_count": 28,
   "metadata": {},
   "outputs": [],
   "source": [
    "control_id_mutual = control_time_data.loc[control_id_index & notna_time_index].shape[0]\n",
    "control_id_none = control_time_data.loc[control_id_index & na_time_index].shape[0]\n",
    "\n",
    "exp_id_mutual = control_time_data.loc[exp_id_index & notna_time_index].shape[0]\n",
    "exp_id_none = control_time_data.loc[exp_id_index & na_time_index].shape[0]"
   ]
  },
  {
   "cell_type": "code",
   "execution_count": 29,
   "metadata": {},
   "outputs": [],
   "source": [
    "obs = [[control_id_mutual,control_id_none ],[exp_id_mutual, exp_id_none]]"
   ]
  },
  {
   "cell_type": "code",
   "execution_count": 30,
   "metadata": {},
   "outputs": [
    {
     "data": {
      "text/plain": [
       "[[43833, 57777], [20860, 25910]]"
      ]
     },
     "execution_count": 30,
     "metadata": {},
     "output_type": "execute_result"
    }
   ],
   "source": [
    "obs"
   ]
  },
  {
   "cell_type": "code",
   "execution_count": 31,
   "metadata": {},
   "outputs": [],
   "source": [
    "chi2, p, dof, ex = chi2_contingency(obs, correction=True)"
   ]
  },
  {
   "cell_type": "code",
   "execution_count": 32,
   "metadata": {},
   "outputs": [
    {
     "data": {
      "text/plain": [
       "1.3388928977539721e-07"
      ]
     },
     "execution_count": 32,
     "metadata": {},
     "output_type": "execute_result"
    }
   ],
   "source": [
    "p"
   ]
  },
  {
   "cell_type": "markdown",
   "metadata": {},
   "source": [
    "### The p-value for this test is  smaller than 0.05.\n",
    "\n",
    "**The null hypothesis is rejected.**\n",
    "\n",
    "There is a significant difference between the proportions of people that formed a mutual relationship in non-experiment time for users whose id starts with (\"b\",\"c\",\"e\",\"f\",\"5\") and users whose id doesn't start with (\"b\",\"c\",\"e\",\"f\",\"5\"). \n",
    "\n",
    "This implies that there is an inherent difference in proportions of people that formed a mutual relationship in the experiment and control group in non-experiment time. "
   ]
  },
  {
   "cell_type": "code",
   "execution_count": 33,
   "metadata": {},
   "outputs": [
    {
     "data": {
      "text/plain": [
       "0.4313847062297018"
      ]
     },
     "execution_count": 33,
     "metadata": {},
     "output_type": "execute_result"
    }
   ],
   "source": [
    "control_id_percentage = control_id_mutual/(control_id_mutual + control_id_none)\n",
    "control_id_percentage"
   ]
  },
  {
   "cell_type": "code",
   "execution_count": 34,
   "metadata": {},
   "outputs": [
    {
     "data": {
      "text/plain": [
       "0.44601240111182383"
      ]
     },
     "execution_count": 34,
     "metadata": {},
     "output_type": "execute_result"
    }
   ],
   "source": [
    "exp_id_percentage = exp_id_mutual/(exp_id_mutual + exp_id_none)\n",
    "exp_id_percentage"
   ]
  },
  {
   "cell_type": "markdown",
   "metadata": {},
   "source": [
    "## A further look into the actual difference in proportions indicates that the difference is small compared to other effects. "
   ]
  },
  {
   "cell_type": "markdown",
   "metadata": {},
   "source": [
    "## Hypothesis testing 4 \n",
    "\n",
    "> Is the sampling process random?\n",
    "\n",
    "\n",
    "Define `t1` to be the time used for a user in `other_con group` to form a mutual relationship.\n",
    "\n",
    "Define `t2` to be the time used for a user in `other_exp group` to form a mutual relationship. \n",
    "\n",
    "`Null hypothesis: The distribution of time used in forming a mutual relationship is the same for other_exp and other_con group. `\n",
    "\n",
    "`Alternative hypothesis:  The distribution of time used in forming a mutual relationship is not the same for other_exp and other_con group. `\n",
    "\n",
    "The type-I error rate is set to a standard 5%. \n",
    "\n",
    "The `Wilcoxon rank-sum test` will be used here. "
   ]
  },
  {
   "cell_type": "code",
   "execution_count": 35,
   "metadata": {},
   "outputs": [],
   "source": [
    "control_time_index = analytics['time_assign'] == \"Control\"\n",
    "\n",
    "control_time_data = analytics[control_time_index].copy()"
   ]
  },
  {
   "cell_type": "code",
   "execution_count": 36,
   "metadata": {},
   "outputs": [],
   "source": [
    "control_id_index = analytics['id_assign'] == \"Control\"\n",
    "exp_id_index = analytics['id_assign'] == \"Experiment\"\n",
    "\n",
    "notna_time_index = analytics['event_end'].notna()"
   ]
  },
  {
   "cell_type": "code",
   "execution_count": 37,
   "metadata": {},
   "outputs": [],
   "source": [
    "experiment_time = control_time_data.loc[exp_id_index & notna_time_index, \"time_used\"].values\n",
    "\n",
    "control_time = control_time_data.loc[control_id_index & notna_time_index, \"time_used\"].values"
   ]
  },
  {
   "cell_type": "code",
   "execution_count": 38,
   "metadata": {},
   "outputs": [],
   "source": [
    "stats, p = mannwhitneyu(experiment_time, control_time, alternative = \"two-sided\")"
   ]
  },
  {
   "cell_type": "code",
   "execution_count": 39,
   "metadata": {},
   "outputs": [
    {
     "data": {
      "text/plain": [
       "0.75175229184718306"
      ]
     },
     "execution_count": 39,
     "metadata": {},
     "output_type": "execute_result"
    }
   ],
   "source": [
    "p"
   ]
  },
  {
   "cell_type": "markdown",
   "metadata": {},
   "source": [
    "### The p-value for this test is larger than 0.05.\n",
    "\n",
    "**Fail to reject the null hypothesis.**\n",
    "\n",
    "The median time used for forming the mutual relationships for the other_exp group and the other_con group is the same. "
   ]
  },
  {
   "cell_type": "markdown",
   "metadata": {},
   "source": [
    "There is no difference in the median time used to form a mutual relationship in both groups.  "
   ]
  },
  {
   "cell_type": "markdown",
   "metadata": {},
   "source": [
    "## In conclusion, the sampling process is random."
   ]
  },
  {
   "cell_type": "markdown",
   "metadata": {},
   "source": [
    "## More questions: \n",
    "1. Could the results be affected given the data is both right censored and left censored? \n",
    "2. Does the number of push notifications affect the the proportions of mutual relationship formation and the time used for forming a mutual relationship? "
   ]
  },
  {
   "cell_type": "code",
   "execution_count": 40,
   "metadata": {},
   "outputs": [],
   "source": [
    "import pandas as pd\n",
    "import numpy as np"
   ]
  },
  {
   "cell_type": "code",
   "execution_count": 41,
   "metadata": {},
   "outputs": [],
   "source": [
    "analytics = pd.read_csv(\"./data/clean_analytics.csv\")\n",
    "\n",
    "analytics['time_used'] = analytics['event_end'] - analytics['event_start']"
   ]
  },
  {
   "cell_type": "markdown",
   "metadata": {},
   "source": [
    "## 1. Could the results be affected given the data is both right censored and left censored? \n"
   ]
  },
  {
   "cell_type": "code",
   "execution_count": 42,
   "metadata": {
    "scrolled": true
   },
   "outputs": [
    {
     "data": {
      "text/plain": [
       "5356776.0"
      ]
     },
     "execution_count": 42,
     "metadata": {},
     "output_type": "execute_result"
    }
   ],
   "source": [
    "analytics['event_end'].max() - analytics['event_start'].min()"
   ]
  },
  {
   "cell_type": "code",
   "execution_count": 43,
   "metadata": {},
   "outputs": [
    {
     "data": {
      "text/plain": [
       "44049.0"
      ]
     },
     "execution_count": 43,
     "metadata": {},
     "output_type": "execute_result"
    }
   ],
   "source": [
    "np.median(analytics.loc[analytics['time_used'].notna(),'time_used'])"
   ]
  },
  {
   "cell_type": "markdown",
   "metadata": {},
   "source": [
    "The total amount of time spent in the study is 5356776 seconds, which is much larger than the median of 44049 seconds. The effect of censoring is minimal. "
   ]
  },
  {
   "cell_type": "markdown",
   "metadata": {},
   "source": [
    "## 2. Does the number of push notifications affect the time used for forming a mutual relationship?"
   ]
  },
  {
   "cell_type": "code",
   "execution_count": 44,
   "metadata": {},
   "outputs": [],
   "source": [
    "count_timeused = analytics[(analytics.event_end.notna()) & (analytics.assignment == \"Experiment\")]\\\n",
    ".groupby(\"user_B\").agg({\"time_used\":'median',\"event_start\":\"count\"})[[\"time_used\",\"event_start\"]]"
   ]
  },
  {
   "cell_type": "code",
   "execution_count": 45,
   "metadata": {},
   "outputs": [],
   "source": [
    "count_timeused.columns = ['time_used',\"num_relations\"]"
   ]
  },
  {
   "cell_type": "code",
   "execution_count": 46,
   "metadata": {},
   "outputs": [
    {
     "data": {
      "image/png": "[encoded data removed]",
      "text/plain": [
       "<Figure size 576x576 with 1 Axes>"
      ]
     },
     "metadata": {
      "needs_background": "light"
     },
     "output_type": "display_data"
    }
   ],
   "source": [
    "plt.figure(figsize = (8,8))\n",
    "sns.scatterplot(x = \"num_relations\", y= \"time_used\", data = count_timeused, alpha = 0.3)\n",
    "plt.title(\"Number of notifications vs averaged time used in Experiment group\");"
   ]
  },
  {
   "cell_type": "code",
   "execution_count": 47,
   "metadata": {},
   "outputs": [
    {
     "data": {
      "image/png": "[encoded data removed]",
      "text/plain": [
       "<Figure size 576x576 with 1 Axes>"
      ]
     },
     "metadata": {
      "needs_background": "light"
     },
     "output_type": "display_data"
    }
   ],
   "source": [
    "count_timeused = analytics[(analytics.event_end.notna()) & (analytics.assignment == \"Control\")]\\\n",
    ".groupby(\"user_B\").agg({\"time_used\":'median',\"event_start\":\"count\"})[[\"time_used\",\"event_start\"]]\n",
    "\n",
    "count_timeused.columns = ['time_used',\"num_relations\"]\n",
    "\n",
    "plt.figure(figsize = (8,8))\n",
    "sns.scatterplot(x = \"num_relations\", y= \"time_used\", data = count_timeused, alpha = 0.3)\n",
    "plt.title(\"Number of notifications vs averaged time used in Control group\");"
   ]
  },
  {
   "cell_type": "markdown",
   "metadata": {},
   "source": [
    "## A further analysis is needed to understand the relationship between number of notifications and the time used to form a mutual relationship. "
   ]
  }
 ],
 "metadata": {
  "kernelspec": {
   "display_name": "Python 3",
   "language": "python",
   "name": "python3"
  },
  "language_info": {
   "codemirror_mode": {
    "name": "ipython",
    "version": 3
   },
   "file_extension": ".py",
   "mimetype": "text/x-python",
   "name": "python",
   "nbconvert_exporter": "python",
   "pygments_lexer": "ipython3",
   "version": "3.6.7"
  }
 },
 "nbformat": 4,
 "nbformat_minor": 2
}
