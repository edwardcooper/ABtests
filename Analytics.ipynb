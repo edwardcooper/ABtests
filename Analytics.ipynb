{
 "cells": [
  {
   "cell_type": "markdown",
   "metadata": {},
   "source": [
    "# A/B testing"
   ]
  },
  {
   "cell_type": "markdown",
   "metadata": {},
   "source": [
    "## Goal:\n",
    "\n",
    "1. Are people more likely to form a mutual relationship with the push notification?\n",
    "\n",
    "2. Does the mutual relationship form more quickly with the push notification? "
   ]
  },
  {
   "cell_type": "code",
   "execution_count": 1,
   "metadata": {},
   "outputs": [],
   "source": [
    "import pandas as pd\n",
    "from scipy.stats import ttest_ind \n",
    "from scipy.stats import chi2_contingency\n",
    "from scipy.stats import mannwhitneyu\n",
    "import matplotlib.pyplot as plt\n",
    "import seaborn as sns"
   ]
  },
  {
   "cell_type": "code",
   "execution_count": 2,
   "metadata": {},
   "outputs": [],
   "source": [
    "analytics = pd.read_csv(\"./data/clean_analytics.csv\")"
   ]
  },
  {
   "cell_type": "code",
   "execution_count": 3,
   "metadata": {},
   "outputs": [
    {
     "data": {
      "text/html": [
       "<div>\n",
       "<style scoped>\n",
       "    .dataframe tbody tr th:only-of-type {\n",
       "        vertical-align: middle;\n",
       "    }\n",
       "\n",
       "    .dataframe tbody tr th {\n",
       "        vertical-align: top;\n",
       "    }\n",
       "\n",
       "    .dataframe thead th {\n",
       "        text-align: right;\n",
       "    }\n",
       "</style>\n",
       "<table border=\"1\" class=\"dataframe\">\n",
       "  <thead>\n",
       "    <tr style=\"text-align: right;\">\n",
       "      <th></th>\n",
       "      <th>user_A</th>\n",
       "      <th>user_B</th>\n",
       "      <th>event_start</th>\n",
       "      <th>event_end</th>\n",
       "      <th>assignment</th>\n",
       "    </tr>\n",
       "  </thead>\n",
       "  <tbody>\n",
       "    <tr>\n",
       "      <th>0</th>\n",
       "      <td>c8501e4e-7914-411b-9d0c-96a3180d0daa</td>\n",
       "      <td>4380277a-5cb8-42d7-8b21-2a7daba6906f</td>\n",
       "      <td>1.516901e+09</td>\n",
       "      <td>1.516907e+09</td>\n",
       "      <td>Control</td>\n",
       "    </tr>\n",
       "    <tr>\n",
       "      <th>1</th>\n",
       "      <td>1b906005-3fc7-44df-a93f-cc7afdf11bd4</td>\n",
       "      <td>6427b7f4-9223-4bfb-8d9b-e19abeeb387e</td>\n",
       "      <td>1.516901e+09</td>\n",
       "      <td>NaN</td>\n",
       "      <td>Control</td>\n",
       "    </tr>\n",
       "    <tr>\n",
       "      <th>2</th>\n",
       "      <td>36cbbb08-5794-43f2-92d1-c6313ac355f8</td>\n",
       "      <td>c8270f60-5ce2-4df0-9487-eb6fd1ca2369</td>\n",
       "      <td>1.516814e+09</td>\n",
       "      <td>1.516901e+09</td>\n",
       "      <td>Experiment</td>\n",
       "    </tr>\n",
       "    <tr>\n",
       "      <th>3</th>\n",
       "      <td>329d3d52-ce78-4d3a-8a91-f765a31e0319</td>\n",
       "      <td>5d1a38a1-39ce-4640-8c3c-bb010e9a64ab</td>\n",
       "      <td>1.514399e+09</td>\n",
       "      <td>1.514410e+09</td>\n",
       "      <td>Experiment</td>\n",
       "    </tr>\n",
       "    <tr>\n",
       "      <th>4</th>\n",
       "      <td>82f959c6-559d-4d51-8323-0c41a0741f4a</td>\n",
       "      <td>de77a7b7-b2af-4738-9d3b-4948d23f0f57</td>\n",
       "      <td>1.514410e+09</td>\n",
       "      <td>1.514739e+09</td>\n",
       "      <td>Control</td>\n",
       "    </tr>\n",
       "  </tbody>\n",
       "</table>\n",
       "</div>"
      ],
      "text/plain": [
       "                                 user_A                                user_B  \\\n",
       "0  c8501e4e-7914-411b-9d0c-96a3180d0daa  4380277a-5cb8-42d7-8b21-2a7daba6906f   \n",
       "1  1b906005-3fc7-44df-a93f-cc7afdf11bd4  6427b7f4-9223-4bfb-8d9b-e19abeeb387e   \n",
       "2  36cbbb08-5794-43f2-92d1-c6313ac355f8  c8270f60-5ce2-4df0-9487-eb6fd1ca2369   \n",
       "3  329d3d52-ce78-4d3a-8a91-f765a31e0319  5d1a38a1-39ce-4640-8c3c-bb010e9a64ab   \n",
       "4  82f959c6-559d-4d51-8323-0c41a0741f4a  de77a7b7-b2af-4738-9d3b-4948d23f0f57   \n",
       "\n",
       "    event_start     event_end  assignment  \n",
       "0  1.516901e+09  1.516907e+09     Control  \n",
       "1  1.516901e+09           NaN     Control  \n",
       "2  1.516814e+09  1.516901e+09  Experiment  \n",
       "3  1.514399e+09  1.514410e+09  Experiment  \n",
       "4  1.514410e+09  1.514739e+09     Control  "
      ]
     },
     "execution_count": 3,
     "metadata": {},
     "output_type": "execute_result"
    }
   ],
   "source": [
    "analytics.head()"
   ]
  },
  {
   "cell_type": "markdown",
   "metadata": {},
   "source": [
    "The time to form a mutual relationship needs to be computed first."
   ]
  },
  {
   "cell_type": "code",
   "execution_count": 4,
   "metadata": {},
   "outputs": [],
   "source": [
    "analytics['time_used'] = analytics['event_end'] - analytics['event_start']"
   ]
  },
  {
   "cell_type": "markdown",
   "metadata": {},
   "source": [
    "The number of events assgined to experiment and control group are"
   ]
  },
  {
   "cell_type": "code",
   "execution_count": 5,
   "metadata": {},
   "outputs": [
    {
     "data": {
      "text/plain": [
       "Control       213573\n",
       "Experiment     99220\n",
       "Name: assignment, dtype: int64"
      ]
     },
     "execution_count": 5,
     "metadata": {},
     "output_type": "execute_result"
    }
   ],
   "source": [
    "analytics['assignment'].value_counts()"
   ]
  },
  {
   "cell_type": "markdown",
   "metadata": {},
   "source": [
    "## Hypothesis testing 1\n",
    "\n",
    "> Are people more likely to form a mutual relationship with the push notification? \n",
    "\n",
    "1. Define `p1` to be the percentage of users that received the push notification and then formed a mutual relationship.\n",
    "\n",
    "2. Define `p2` to be the percentage of users that did not received the push notification but formed a mutual relationship.  \n",
    "\n",
    "`Null hypothesis: p1 and p2 are independent of experiment/control group split (p1 = p2)`\n",
    "\n",
    "`Alternative hypothesis: p1 and p2 are not independent of experiment/control group split (p1 not equal p2)`\n",
    "\n",
    "The type-I error rate is set to a standard 5%. "
   ]
  },
  {
   "cell_type": "markdown",
   "metadata": {},
   "source": [
    "**Discussion**: The chi-square indepedence test will be used here instead of the usual t-test. \n",
    "\n",
    "The assumption of the chi-squared test:\n",
    "1. The independency of observations. \n",
    "2. Large enough observations for the test statistic to approach chi-squared distribution (>50)\n",
    "\n",
    "The t-test requires the underlying disitrbution to be a normal distribution, while a pecentage only take values between 0 and 1. Thus, it is not ideal to use t-test on percentage. \n",
    "Given we have more than 50 observations, the Chi-square test of independence is a more apporpriate choice here. "
   ]
  },
  {
   "cell_type": "markdown",
   "metadata": {},
   "source": [
    "### computing the frequency of observations. "
   ]
  },
  {
   "cell_type": "code",
   "execution_count": 6,
   "metadata": {},
   "outputs": [],
   "source": [
    "control_index = analytics['assignment'] == \"Control\"\n",
    "experiment_index = analytics['assignment'] == \"Experiment\"\n",
    "\n",
    "mutual_index = analytics['event_end'].notna()\n",
    "none_index = analytics['event_end'].isna()"
   ]
  },
  {
   "cell_type": "code",
   "execution_count": 7,
   "metadata": {},
   "outputs": [],
   "source": [
    "experiment_mutual = analytics.loc[experiment_index & mutual_index].shape[0]\n",
    "experiment_none = analytics.loc[experiment_index & none_index].shape[0]\n",
    "\n",
    "control_mutual =  analytics.loc[control_index & mutual_index].shape[0]\n",
    "control_none = analytics.loc[control_index & none_index].shape[0]"
   ]
  },
  {
   "cell_type": "code",
   "execution_count": 8,
   "metadata": {},
   "outputs": [],
   "source": [
    "obs = [[experiment_mutual,control_mutual ],[experiment_none, control_none]]"
   ]
  },
  {
   "cell_type": "code",
   "execution_count": 9,
   "metadata": {},
   "outputs": [],
   "source": [
    "chi2, p, dof, ex = chi2_contingency(obs, correction=True)"
   ]
  },
  {
   "cell_type": "code",
   "execution_count": 10,
   "metadata": {},
   "outputs": [
    {
     "data": {
      "text/plain": [
       "1.6286924358584332e-22"
      ]
     },
     "execution_count": 10,
     "metadata": {},
     "output_type": "execute_result"
    }
   ],
   "source": [
    "p"
   ]
  },
  {
   "cell_type": "markdown",
   "metadata": {},
   "source": [
    "### The p-value for this independence test is  much smaller than 0.05.\n",
    "\n",
    "**The null hypothesis is rejected.**\n",
    "\n",
    "This means that the push notification has an effect on formation of the mutual relationship. "
   ]
  },
  {
   "cell_type": "code",
   "execution_count": 11,
   "metadata": {},
   "outputs": [
    {
     "data": {
      "text/plain": [
       "0.5023483168715984"
      ]
     },
     "execution_count": 11,
     "metadata": {},
     "output_type": "execute_result"
    }
   ],
   "source": [
    "experiment_percentage = experiment_mutual/ (experiment_mutual + experiment_none)\n",
    "experiment_percentage"
   ]
  },
  {
   "cell_type": "code",
   "execution_count": 12,
   "metadata": {},
   "outputs": [
    {
     "data": {
      "text/plain": [
       "0.48359109063411576"
      ]
     },
     "execution_count": 12,
     "metadata": {},
     "output_type": "execute_result"
    }
   ],
   "source": [
    "control_percentage = control_mutual/(control_mutual + control_none)\n",
    "control_percentage"
   ]
  },
  {
   "cell_type": "markdown",
   "metadata": {},
   "source": [
    "The experiment group has `50.23%` of users that formed the mutual relationship, while the control group has a  `48.35%` of users that formed the mutual relationship. "
   ]
  },
  {
   "cell_type": "code",
   "execution_count": 13,
   "metadata": {},
   "outputs": [
    {
     "data": {
      "text/plain": [
       "0.03878736933074383"
      ]
     },
     "execution_count": 13,
     "metadata": {},
     "output_type": "execute_result"
    }
   ],
   "source": [
    "(experiment_percentage - control_percentage)/control_percentage"
   ]
  },
  {
   "cell_type": "markdown",
   "metadata": {},
   "source": [
    "There is about 3.8% percent increase in forming a mutual relationship. "
   ]
  },
  {
   "cell_type": "markdown",
   "metadata": {},
   "source": [
    "The number of observations are much larger than 1000. The `power of the test is higher than the standard 0.8`."
   ]
  },
  {
   "cell_type": "markdown",
   "metadata": {},
   "source": [
    "I suspect that push notification has a negative effect on users that have a lot of followers and a positive effect on users that have less followers in forming the mutual relationship. Further analysis will be needed for this. "
   ]
  },
  {
   "cell_type": "markdown",
   "metadata": {},
   "source": [
    "## Hypothesis test 2\n",
    "\n",
    "> Does the mutual relationship form more quickly with the push notification? \n",
    "\n",
    "Define `t1` to be the time used for a user in experiment group to form a mutual relationship.\n",
    "Define `t2` to be the time used for a user in control group to form a mutual relationship. \n",
    "\n",
    "`Null hypothesis: t1 = t2`\n",
    "\n",
    "`Alternative hypothesis: t1 < t2`\n",
    "\n",
    "The type-I error rate is set to a standard 5%. \n"
   ]
  },
  {
   "cell_type": "markdown",
   "metadata": {},
   "source": [
    "**Discussion**: The goal here is to see if the mean of the time used to form a mutual relationship differs in control and experiment group. A t-test comparing the means of two independent samples is a natural choice here. \n",
    "\n",
    "Assumptions of t-test: \n",
    "1. Mean of the two populations compared should follow a normal distribution. \n",
    "2. The data are independently sampled. \n",
    "\n",
    "Given the large size of observations available and the central limit theorem, the mean should follow the normal distribution. \n",
    "\n",
    "The actual test used is the `Welch's t test`, which deals with unequal variance in the two populations. \n"
   ]
  },
  {
   "cell_type": "code",
   "execution_count": 14,
   "metadata": {},
   "outputs": [],
   "source": [
    "control_index = analytics['assignment'] == \"Control\"\n",
    "experiment_index = analytics['assignment'] == \"Experiment\"\n",
    "\n",
    "notna_index = analytics['time_used'].notna()\n"
   ]
  },
  {
   "cell_type": "code",
   "execution_count": 15,
   "metadata": {},
   "outputs": [],
   "source": [
    "experitment_time = analytics.loc[experiment_index & notna_index, \"time_used\"].values\n",
    "control_time = analytics.loc[control_index & notna_index, \"time_used\"].values"
   ]
  },
  {
   "cell_type": "code",
   "execution_count": 16,
   "metadata": {},
   "outputs": [],
   "source": [
    "stats, p = ttest_ind(experitment_time, control_time, equal_var=False)"
   ]
  },
  {
   "cell_type": "code",
   "execution_count": 17,
   "metadata": {},
   "outputs": [
    {
     "data": {
      "text/plain": [
       "5.1605163101223499e-10"
      ]
     },
     "execution_count": 17,
     "metadata": {},
     "output_type": "execute_result"
    }
   ],
   "source": [
    "p"
   ]
  },
  {
   "cell_type": "markdown",
   "metadata": {},
   "source": [
    "The p-value here is the p-value for two-sided test and the hypothesis we are testing is the one-sided test. The p-value for one sided test is half of the two-sided test. "
   ]
  },
  {
   "cell_type": "markdown",
   "metadata": {},
   "source": [
    "The p-value for our hypothesis test is "
   ]
  },
  {
   "cell_type": "code",
   "execution_count": 18,
   "metadata": {},
   "outputs": [
    {
     "data": {
      "text/plain": [
       "2.580258155061175e-10"
      ]
     },
     "execution_count": 18,
     "metadata": {},
     "output_type": "execute_result"
    }
   ],
   "source": [
    "p/2"
   ]
  },
  {
   "cell_type": "markdown",
   "metadata": {},
   "source": [
    "### The p-value for this independence test is  much smaller than 0.05.\n",
    "\n",
    "**The null hypothesis is rejected.**\n",
    "\n",
    "This means that the push notification shortened the time used for forming a mutual relationship. "
   ]
  },
  {
   "cell_type": "code",
   "execution_count": 19,
   "metadata": {},
   "outputs": [
    {
     "data": {
      "text/plain": [
       "316050.27696968481"
      ]
     },
     "execution_count": 19,
     "metadata": {},
     "output_type": "execute_result"
    }
   ],
   "source": [
    "experitment_time.mean()"
   ]
  },
  {
   "cell_type": "code",
   "execution_count": 20,
   "metadata": {},
   "outputs": [
    {
     "data": {
      "text/plain": [
       "337767.78241126239"
      ]
     },
     "execution_count": 20,
     "metadata": {},
     "output_type": "execute_result"
    }
   ],
   "source": [
    "control_time.mean()"
   ]
  },
  {
   "cell_type": "code",
   "execution_count": 21,
   "metadata": {},
   "outputs": [
    {
     "data": {
      "image/png": "[encoded data removed]",
      "text/plain": [
       "<Figure size 576x576 with 1 Axes>"
      ]
     },
     "metadata": {
      "needs_background": "light"
     },
     "output_type": "display_data"
    }
   ],
   "source": [
    "plt.figure(figsize = (8,8))\n",
    "sns.violinplot(x = \"assignment\", y= \"time_used\" , data = analytics,kind=\"swarm\")\n",
    "plt.title(\"The time used for forming a mutual relationship in control and experiment group\");"
   ]
  },
  {
   "cell_type": "markdown",
   "metadata": {},
   "source": [
    "The underlying distribution of the time used is highly non-normal. This could leads to a spurious statistical significance. With this concern, a Wilcoxon rank-sum test should be performed. "
   ]
  },
  {
   "cell_type": "markdown",
   "metadata": {},
   "source": [
    "Assumptions of the Wilcoxon rank-sum test:\n",
    "1. Data is indepedently sampled.\n",
    "2. "
   ]
  },
  {
   "cell_type": "code",
   "execution_count": 22,
   "metadata": {},
   "outputs": [],
   "source": [
    "stats, p = mannwhitneyu(experitment_time, control_time, alternative = \"less\")"
   ]
  },
  {
   "cell_type": "code",
   "execution_count": 23,
   "metadata": {},
   "outputs": [
    {
     "data": {
      "text/plain": [
       "5.2862576634053449e-11"
      ]
     },
     "execution_count": 23,
     "metadata": {},
     "output_type": "execute_result"
    }
   ],
   "source": [
    "p"
   ]
  },
  {
   "cell_type": "markdown",
   "metadata": {},
   "source": [
    "This confirms that the statistical significance from the t-test is not a spurious one. "
   ]
  },
  {
   "cell_type": "markdown",
   "metadata": {},
   "source": [
    "# Conclusion:\n",
    "\n",
    "\n",
    "## 1. Are people more likely to form a mutual relationship with the push notification? `Yes`\n",
    "\n",
    " ## 2. Does the mutual relationship form more quickly with the push notification? `Yes`"
   ]
  }
 ],
 "metadata": {
  "kernelspec": {
   "display_name": "Python 3",
   "language": "python",
   "name": "python3"
  },
  "language_info": {
   "codemirror_mode": {
    "name": "ipython",
    "version": 3
   },
   "file_extension": ".py",
   "mimetype": "text/x-python",
   "name": "python",
   "nbconvert_exporter": "python",
   "pygments_lexer": "ipython3",
   "version": "3.6.7"
  }
 },
 "nbformat": 4,
 "nbformat_minor": 2
}
