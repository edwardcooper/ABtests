{
 "cells": [
  {
   "cell_type": "markdown",
   "metadata": {},
   "source": [
    "# Exploratory data analysis"
   ]
  },
  {
   "cell_type": "markdown",
   "metadata": {},
   "source": [
    "## Goal for this notebook: data manipulation and cleaning. "
   ]
  },
  {
   "cell_type": "code",
   "execution_count": 1,
   "metadata": {},
   "outputs": [],
   "source": [
    "import pandas as pd\n",
    "import seaborn as sns\n",
    "from tqdm import tqdm\n",
    "import numpy as np"
   ]
  },
  {
   "cell_type": "code",
   "execution_count": 2,
   "metadata": {},
   "outputs": [],
   "source": [
    "peloton = pd.read_csv(\"./data/data.csv\", header = None)"
   ]
  },
  {
   "cell_type": "code",
   "execution_count": 3,
   "metadata": {},
   "outputs": [],
   "source": [
    "peloton.columns = ['user_A', \"user_B\",\"event_time\"]"
   ]
  },
  {
   "cell_type": "markdown",
   "metadata": {},
   "source": [
    "### A quick look at the first few lines of the data."
   ]
  },
  {
   "cell_type": "code",
   "execution_count": 4,
   "metadata": {
    "scrolled": true
   },
   "outputs": [
    {
     "data": {
      "text/html": [
       "<div>\n",
       "<style scoped>\n",
       "    .dataframe tbody tr th:only-of-type {\n",
       "        vertical-align: middle;\n",
       "    }\n",
       "\n",
       "    .dataframe tbody tr th {\n",
       "        vertical-align: top;\n",
       "    }\n",
       "\n",
       "    .dataframe thead th {\n",
       "        text-align: right;\n",
       "    }\n",
       "</style>\n",
       "<table border=\"1\" class=\"dataframe\">\n",
       "  <thead>\n",
       "    <tr style=\"text-align: right;\">\n",
       "      <th></th>\n",
       "      <th>user_A</th>\n",
       "      <th>user_B</th>\n",
       "      <th>event_time</th>\n",
       "    </tr>\n",
       "  </thead>\n",
       "  <tbody>\n",
       "    <tr>\n",
       "      <th>0</th>\n",
       "      <td>c8501e4e-7914-411b-9d0c-96a3180d0daa</td>\n",
       "      <td>4380277a-5cb8-42d7-8b21-2a7daba6906f</td>\n",
       "      <td>1516901020</td>\n",
       "    </tr>\n",
       "    <tr>\n",
       "      <th>1</th>\n",
       "      <td>1b906005-3fc7-44df-a93f-cc7afdf11bd4</td>\n",
       "      <td>6427b7f4-9223-4bfb-8d9b-e19abeeb387e</td>\n",
       "      <td>1516901488</td>\n",
       "    </tr>\n",
       "    <tr>\n",
       "      <th>2</th>\n",
       "      <td>c8270f60-5ce2-4df0-9487-eb6fd1ca2369</td>\n",
       "      <td>36cbbb08-5794-43f2-92d1-c6313ac355f8</td>\n",
       "      <td>1516901074</td>\n",
       "    </tr>\n",
       "    <tr>\n",
       "      <th>3</th>\n",
       "      <td>5d1a38a1-39ce-4640-8c3c-bb010e9a64ab</td>\n",
       "      <td>329d3d52-ce78-4d3a-8a91-f765a31e0319</td>\n",
       "      <td>1514410055</td>\n",
       "    </tr>\n",
       "    <tr>\n",
       "      <th>4</th>\n",
       "      <td>82f959c6-559d-4d51-8323-0c41a0741f4a</td>\n",
       "      <td>de77a7b7-b2af-4738-9d3b-4948d23f0f57</td>\n",
       "      <td>1514410067</td>\n",
       "    </tr>\n",
       "  </tbody>\n",
       "</table>\n",
       "</div>"
      ],
      "text/plain": [
       "                                 user_A                                user_B  \\\n",
       "0  c8501e4e-7914-411b-9d0c-96a3180d0daa  4380277a-5cb8-42d7-8b21-2a7daba6906f   \n",
       "1  1b906005-3fc7-44df-a93f-cc7afdf11bd4  6427b7f4-9223-4bfb-8d9b-e19abeeb387e   \n",
       "2  c8270f60-5ce2-4df0-9487-eb6fd1ca2369  36cbbb08-5794-43f2-92d1-c6313ac355f8   \n",
       "3  5d1a38a1-39ce-4640-8c3c-bb010e9a64ab  329d3d52-ce78-4d3a-8a91-f765a31e0319   \n",
       "4  82f959c6-559d-4d51-8323-0c41a0741f4a  de77a7b7-b2af-4738-9d3b-4948d23f0f57   \n",
       "\n",
       "   event_time  \n",
       "0  1516901020  \n",
       "1  1516901488  \n",
       "2  1516901074  \n",
       "3  1514410055  \n",
       "4  1514410067  "
      ]
     },
     "execution_count": 4,
     "metadata": {},
     "output_type": "execute_result"
    }
   ],
   "source": [
    "peloton.head()"
   ]
  },
  {
   "cell_type": "code",
   "execution_count": 5,
   "metadata": {},
   "outputs": [
    {
     "data": {
      "text/plain": [
       "(465930, 3)"
      ]
     },
     "execution_count": 5,
     "metadata": {},
     "output_type": "execute_result"
    }
   ],
   "source": [
    "peloton.shape"
   ]
  },
  {
   "cell_type": "markdown",
   "metadata": {},
   "source": [
    "### Check for missing data: no missing data"
   ]
  },
  {
   "cell_type": "code",
   "execution_count": 6,
   "metadata": {},
   "outputs": [
    {
     "data": {
      "text/plain": [
       "user_A        0\n",
       "user_B        0\n",
       "event_time    0\n",
       "dtype: int64"
      ]
     },
     "execution_count": 6,
     "metadata": {},
     "output_type": "execute_result"
    }
   ],
   "source": [
    "peloton.isna().sum()"
   ]
  },
  {
   "cell_type": "markdown",
   "metadata": {},
   "source": [
    "### Check for duplicate data: no duplicated data."
   ]
  },
  {
   "cell_type": "code",
   "execution_count": 7,
   "metadata": {},
   "outputs": [
    {
     "data": {
      "text/plain": [
       "0"
      ]
     },
     "execution_count": 7,
     "metadata": {},
     "output_type": "execute_result"
    }
   ],
   "source": [
    "peloton[['user_A',\"user_B\"]].duplicated().sum()"
   ]
  },
  {
   "cell_type": "markdown",
   "metadata": {},
   "source": [
    "### Check for distribution of the event_time."
   ]
  },
  {
   "cell_type": "code",
   "execution_count": 8,
   "metadata": {},
   "outputs": [
    {
     "data": {
      "text/plain": [
       "<matplotlib.axes._subplots.AxesSubplot at 0x7f34fdaee080>"
      ]
     },
     "execution_count": 8,
     "metadata": {},
     "output_type": "execute_result"
    },
    {
     "data": {
      "image/png": "[encoded data removed]",
      "text/plain": [
       "<Figure size 432x288 with 1 Axes>"
      ]
     },
     "metadata": {
      "needs_background": "light"
     },
     "output_type": "display_data"
    }
   ],
   "source": [
    "sns.boxplot(y = \"event_time\",data = peloton)"
   ]
  },
  {
   "cell_type": "markdown",
   "metadata": {},
   "source": [
    "There is no outlier in the event_time data."
   ]
  },
  {
   "cell_type": "code",
   "execution_count": 9,
   "metadata": {},
   "outputs": [
    {
     "data": {
      "text/plain": [
       "Timestamp('2018-01-31 23:59:51')"
      ]
     },
     "execution_count": 9,
     "metadata": {},
     "output_type": "execute_result"
    }
   ],
   "source": [
    "pd.to_datetime(peloton['event_time'], unit = \"s\").max()"
   ]
  },
  {
   "cell_type": "code",
   "execution_count": 10,
   "metadata": {},
   "outputs": [
    {
     "data": {
      "text/plain": [
       "Timestamp('2017-12-01 00:00:01')"
      ]
     },
     "execution_count": 10,
     "metadata": {},
     "output_type": "execute_result"
    }
   ],
   "source": [
    "pd.to_datetime(peloton['event_time'], unit = \"s\").min()"
   ]
  },
  {
   "cell_type": "markdown",
   "metadata": {},
   "source": [
    "### The data contains the events from 2017-12-01 to 2018-01-31. "
   ]
  },
  {
   "cell_type": "markdown",
   "metadata": {},
   "source": [
    "## Determine the control vs experiment group."
   ]
  },
  {
   "cell_type": "markdown",
   "metadata": {},
   "source": [
    "A subset of users received a push notification to the iOS app\n",
    "notifying them of any new follower. \n",
    "\n",
    "1. Users with an id that starts with one of “b”, “c”, “e”, “f”, “5” received the push notification. (Call this notification group)\n",
    "2. Everyone else did not receive a notification and had no other change in their experience. (Call this no notification group)"
   ]
  },
  {
   "cell_type": "markdown",
   "metadata": {},
   "source": [
    "There are a total of four outcomes:\n",
    "> 1. A -> B (notification), then B -> A (notification or no notification)  : **Experiment group**\n",
    "> 2. A -> B (notification), then B-/> A (B did not follow back A) : **Experiment group**\n",
    "> 3. A -> B (no notification), then B -> A (notification or no notification)  : **control group**\n",
    "> 4. A -> B (no notification), then B-/> A (B did not follow back A) : **control group**"
   ]
  },
  {
   "cell_type": "markdown",
   "metadata": {},
   "source": [
    "A new dataframe will be created for conducting hypothesis testing.\n",
    "\n",
    "The new dataframe contains four columns: `user_A, user_B, event_start (user_A follows user_B), event_end (user_B follows back)`. \n",
    "\n",
    "In this dataframe, it is created in this way that user_A follows user_B before user_B follows user_A. "
   ]
  },
  {
   "cell_type": "markdown",
   "metadata": {},
   "source": [
    "After those four columns are created, the experiment/control group `assignment` column can be created easily.\n",
    "\n",
    "Then, the amount of time for a mutual connection to form can also be created easily with `event_start` and `event_end` columns. "
   ]
  },
  {
   "cell_type": "markdown",
   "metadata": {},
   "source": [
    "## Reformat the dataset for analytics"
   ]
  },
  {
   "cell_type": "markdown",
   "metadata": {},
   "source": [
    "The dataset is not fit for analytics in current format. \n",
    "\n",
    "The reformatted dataset contains five columns:\n",
    "\n",
    "`user_A`: str. The person who follows user_B first.\n",
    "\n",
    "`user_B`: str. the Person who was folloed by user_A first. \n",
    "\n",
    "`event_start`: float. the time when user_A follows user_B. Since user_A is the person who follows user_B first, event_start column is always smaller than event_end column.\n",
    "\n",
    "`event_end`: float.  the time when user_B follows user_A. This is the time when a mutual relationship between user_a and user_B is formed. \n",
    "\n",
    "`assignment`: str. \"Experiment\" or \"Control\". If the formation of the mutual relationship is considered to be in the experiment or control group. "
   ]
  },
  {
   "cell_type": "markdown",
   "metadata": {},
   "source": [
    "> Given the dataset and the row number of the dataset, `check_follow_back` function will find if user_B follows user_A. If user_B also follows user_A, the first person who follows the other is assigned to be in user_A column, while the second person is assigned to be in user_B column. The event_start and event_end time is also assigned accordingly. The second instance where the follow-event happens is assigned all NA values. If user_A and user_B follow each other in the same second, the event_start column will be NA values. "
   ]
  },
  {
   "cell_type": "code",
   "execution_count": 11,
   "metadata": {},
   "outputs": [],
   "source": [
    "# this function find the matching pair of user_A and user_B then updates the dataset. \n",
    "def check_follow_back(data,index,user_A_values, user_B_values):\n",
    "\n",
    "    # get the user_A and user_B values.\n",
    "    user_A = user_A_values[index]\n",
    "    user_B = user_B_values[index]\n",
    "    \n",
    "    # find the index where user_A follows user_B\n",
    "    # find the index where user_B follows user_A\n",
    "    user_A_follow_index = (user_A_values == user_B)\n",
    "    user_B_follow_index = (user_B_values == user_A)\n",
    "    \n",
    "    # check if user_B follows back user_A.\n",
    "    if data[user_A_follow_index & user_B_follow_index].shape[0] == 1:\n",
    "        # get the event-time for when user_A and user_B follows one another. \n",
    "        user_A_event_time = data['event_time'][index]\n",
    "        user_B_index = data[user_A_follow_index & user_B_follow_index].index.values[0]\n",
    "        user_B_event_time = data['event_time'][user_B_index]\n",
    "        print(user_B_index)\n",
    "\n",
    "        if user_A_event_time < user_B_event_time:\n",
    "            data.iloc[index] = [user_A, user_B, user_A_event_time, \\\n",
    "                                user_A_event_time, user_B_event_time ]\n",
    "            \n",
    "            data.iloc[user_B_index] = [np.nan, np.nan, np.nan,\\\n",
    "                                   np.nan, np.nan ]\n",
    "            \n",
    "            \n",
    "        elif user_B_event_time < user_A_event_time:\n",
    "            data.iloc[index] = [user_B, user_A, user_A_event_time,\\\n",
    "                               user_B_event_time, user_A_event_time]\n",
    "            \n",
    "            data.iloc[user_B_index] = [np.nan, np.nan, np.nan,\\\n",
    "                                   np.nan, np.nan ]\n",
    "    else:\n",
    "        data.loc[data.index[index], \"event_start\"] \\\n",
    "        = data.loc[data.index[index], \"event_time\"]\n",
    "                    \n",
    "    return data\n",
    "            \n",
    "    "
   ]
  },
  {
   "cell_type": "code",
   "execution_count": 12,
   "metadata": {
    "scrolled": true
   },
   "outputs": [],
   "source": [
    "analytics_data = peloton.copy()\n",
    "\n",
    "analytics_data[\"event_start\"] = np.nan\n",
    "analytics_data['event_end'] = np.nan\n",
    "\n",
    "entire_user_A = analytics_data['user_A'].copy().values\n",
    "entire_user_B = analytics_data['user_B'].copy().values"
   ]
  },
  {
   "cell_type": "code",
   "execution_count": 13,
   "metadata": {},
   "outputs": [
    {
     "name": "stdout",
     "output_type": "stream",
     "text": [
      "932\n",
      "['c8501e4e-7914-411b-9d0c-96a3180d0daa'\n",
      " '4380277a-5cb8-42d7-8b21-2a7daba6906f' 1516901020.0 1516901020.0\n",
      " 1516907271.0]\n",
      "[nan nan nan nan nan]\n"
     ]
    }
   ],
   "source": [
    "analytics_data = check_follow_back(analytics_data,0, \\\n",
    "                                   user_A_values = entire_user_A,\n",
    "                                  user_B_values = entire_user_B)\n",
    "print(analytics_data.iloc[0].values)\n",
    "\n",
    "print(analytics_data.iloc[932].values)"
   ]
  },
  {
   "cell_type": "markdown",
   "metadata": {},
   "source": [
    "The above is one example of the outcome of the `check_follow_back` function. If we iterate through all the rows, then the dataset is ready for analytics. \n",
    "\n",
    "\n",
    "All the computation was actually done by the `analytics_data.py` file in the `data` directory. \n"
   ]
  },
  {
   "cell_type": "markdown",
   "metadata": {},
   "source": [
    "## Read in reformatted analytics data. "
   ]
  },
  {
   "cell_type": "code",
   "execution_count": 14,
   "metadata": {},
   "outputs": [
    {
     "data": {
      "text/html": [
       "<div>\n",
       "<style scoped>\n",
       "    .dataframe tbody tr th:only-of-type {\n",
       "        vertical-align: middle;\n",
       "    }\n",
       "\n",
       "    .dataframe tbody tr th {\n",
       "        vertical-align: top;\n",
       "    }\n",
       "\n",
       "    .dataframe thead th {\n",
       "        text-align: right;\n",
       "    }\n",
       "</style>\n",
       "<table border=\"1\" class=\"dataframe\">\n",
       "  <thead>\n",
       "    <tr style=\"text-align: right;\">\n",
       "      <th></th>\n",
       "      <th>user_A</th>\n",
       "      <th>user_B</th>\n",
       "      <th>event_time</th>\n",
       "      <th>event_start</th>\n",
       "      <th>event_end</th>\n",
       "    </tr>\n",
       "  </thead>\n",
       "  <tbody>\n",
       "    <tr>\n",
       "      <th>0</th>\n",
       "      <td>c8501e4e-7914-411b-9d0c-96a3180d0daa</td>\n",
       "      <td>4380277a-5cb8-42d7-8b21-2a7daba6906f</td>\n",
       "      <td>1.516901e+09</td>\n",
       "      <td>1.516901e+09</td>\n",
       "      <td>1.516907e+09</td>\n",
       "    </tr>\n",
       "    <tr>\n",
       "      <th>1</th>\n",
       "      <td>1b906005-3fc7-44df-a93f-cc7afdf11bd4</td>\n",
       "      <td>6427b7f4-9223-4bfb-8d9b-e19abeeb387e</td>\n",
       "      <td>1.516901e+09</td>\n",
       "      <td>1.516901e+09</td>\n",
       "      <td>NaN</td>\n",
       "    </tr>\n",
       "    <tr>\n",
       "      <th>2</th>\n",
       "      <td>36cbbb08-5794-43f2-92d1-c6313ac355f8</td>\n",
       "      <td>c8270f60-5ce2-4df0-9487-eb6fd1ca2369</td>\n",
       "      <td>1.516901e+09</td>\n",
       "      <td>1.516814e+09</td>\n",
       "      <td>1.516901e+09</td>\n",
       "    </tr>\n",
       "    <tr>\n",
       "      <th>3</th>\n",
       "      <td>329d3d52-ce78-4d3a-8a91-f765a31e0319</td>\n",
       "      <td>5d1a38a1-39ce-4640-8c3c-bb010e9a64ab</td>\n",
       "      <td>1.514410e+09</td>\n",
       "      <td>1.514399e+09</td>\n",
       "      <td>1.514410e+09</td>\n",
       "    </tr>\n",
       "    <tr>\n",
       "      <th>4</th>\n",
       "      <td>82f959c6-559d-4d51-8323-0c41a0741f4a</td>\n",
       "      <td>de77a7b7-b2af-4738-9d3b-4948d23f0f57</td>\n",
       "      <td>1.514410e+09</td>\n",
       "      <td>1.514410e+09</td>\n",
       "      <td>1.514739e+09</td>\n",
       "    </tr>\n",
       "  </tbody>\n",
       "</table>\n",
       "</div>"
      ],
      "text/plain": [
       "                                 user_A                                user_B  \\\n",
       "0  c8501e4e-7914-411b-9d0c-96a3180d0daa  4380277a-5cb8-42d7-8b21-2a7daba6906f   \n",
       "1  1b906005-3fc7-44df-a93f-cc7afdf11bd4  6427b7f4-9223-4bfb-8d9b-e19abeeb387e   \n",
       "2  36cbbb08-5794-43f2-92d1-c6313ac355f8  c8270f60-5ce2-4df0-9487-eb6fd1ca2369   \n",
       "3  329d3d52-ce78-4d3a-8a91-f765a31e0319  5d1a38a1-39ce-4640-8c3c-bb010e9a64ab   \n",
       "4  82f959c6-559d-4d51-8323-0c41a0741f4a  de77a7b7-b2af-4738-9d3b-4948d23f0f57   \n",
       "\n",
       "     event_time   event_start     event_end  \n",
       "0  1.516901e+09  1.516901e+09  1.516907e+09  \n",
       "1  1.516901e+09  1.516901e+09           NaN  \n",
       "2  1.516901e+09  1.516814e+09  1.516901e+09  \n",
       "3  1.514410e+09  1.514399e+09  1.514410e+09  \n",
       "4  1.514410e+09  1.514410e+09  1.514739e+09  "
      ]
     },
     "execution_count": 14,
     "metadata": {},
     "output_type": "execute_result"
    }
   ],
   "source": [
    "analytics_data_final = pd.read_csv(\"./data/analytics_data.csv\")\n",
    "\n",
    "analytics_data_final.head()"
   ]
  },
  {
   "cell_type": "markdown",
   "metadata": {},
   "source": [
    "Check the missing value amount. "
   ]
  },
  {
   "cell_type": "code",
   "execution_count": 15,
   "metadata": {
    "scrolled": true
   },
   "outputs": [
    {
     "data": {
      "text/plain": [
       "user_A         153125\n",
       "user_B         153125\n",
       "event_time     153125\n",
       "event_start    153137\n",
       "event_end      312805\n",
       "dtype: int64"
      ]
     },
     "execution_count": 15,
     "metadata": {},
     "output_type": "execute_result"
    }
   ],
   "source": [
    "analytics_data_final.isna().sum()"
   ]
  },
  {
   "cell_type": "markdown",
   "metadata": {},
   "source": [
    "Get rid of the rows that contains missing values in user_A column. "
   ]
  },
  {
   "cell_type": "code",
   "execution_count": 16,
   "metadata": {},
   "outputs": [],
   "source": [
    "keep_index = analytics_data_final['user_A'].notna()"
   ]
  },
  {
   "cell_type": "code",
   "execution_count": 17,
   "metadata": {},
   "outputs": [],
   "source": [
    "analytics_data_final = analytics_data_final.copy().loc[keep_index]"
   ]
  },
  {
   "cell_type": "code",
   "execution_count": 18,
   "metadata": {},
   "outputs": [],
   "source": [
    "analytics_data_final.reset_index(drop = True, inplace = True)"
   ]
  },
  {
   "cell_type": "markdown",
   "metadata": {},
   "source": [
    "Check for missing values again."
   ]
  },
  {
   "cell_type": "code",
   "execution_count": 19,
   "metadata": {},
   "outputs": [
    {
     "data": {
      "text/plain": [
       "user_A              0\n",
       "user_B              0\n",
       "event_time          0\n",
       "event_start        12\n",
       "event_end      159680\n",
       "dtype: int64"
      ]
     },
     "execution_count": 19,
     "metadata": {},
     "output_type": "execute_result"
    }
   ],
   "source": [
    "analytics_data_final.isna().sum()"
   ]
  },
  {
   "cell_type": "markdown",
   "metadata": {},
   "source": [
    "The missing value in event_start is due to the fact that user_A and user_B follows each other in the same second.\n",
    "\n",
    "We will discord those 12 records since it is not possible to determine the following order. "
   ]
  },
  {
   "cell_type": "code",
   "execution_count": 20,
   "metadata": {},
   "outputs": [
    {
     "data": {
      "text/plain": [
       "array([['fa2995da-6794-4309-805a-1be5831bb240',\n",
       "        '88bb01ba-09e8-4769-b6aa-1d874f57f53d', 1512307813.0, nan, nan],\n",
       "       ['88bb01ba-09e8-4769-b6aa-1d874f57f53d',\n",
       "        'fa2995da-6794-4309-805a-1be5831bb240', 1512307813.0, nan, nan],\n",
       "       ['353694ce-457b-420a-a659-4dd87a8ff4a8',\n",
       "        '94851109-4627-4aac-9803-24a8de59bc2d', 1514352619.0, nan, nan],\n",
       "       ['94851109-4627-4aac-9803-24a8de59bc2d',\n",
       "        '353694ce-457b-420a-a659-4dd87a8ff4a8', 1514352619.0, nan, nan],\n",
       "       ['fefc30e9-29a1-414a-810f-5b4ca8fbe174',\n",
       "        'a1617b20-6551-4694-9ab6-696ed5039e1b', 1515293869.0, nan, nan],\n",
       "       ['a1617b20-6551-4694-9ab6-696ed5039e1b',\n",
       "        'fefc30e9-29a1-414a-810f-5b4ca8fbe174', 1515293869.0, nan, nan],\n",
       "       ['4e4f46d4-13d6-43e9-aba9-bb85c67170e2',\n",
       "        '28bcf77e-fa68-4901-8ba3-4f942fdc0006', 1513298087.0, nan, nan],\n",
       "       ['28bcf77e-fa68-4901-8ba3-4f942fdc0006',\n",
       "        '4e4f46d4-13d6-43e9-aba9-bb85c67170e2', 1513298087.0, nan, nan],\n",
       "       ['d7fa1c30-6885-4f81-ad9a-0d2ef063ec4c',\n",
       "        '0d4b9c0f-f0c2-4754-810b-ae3dc907d23e', 1517267530.0, nan, nan],\n",
       "       ['0d4b9c0f-f0c2-4754-810b-ae3dc907d23e',\n",
       "        'd7fa1c30-6885-4f81-ad9a-0d2ef063ec4c', 1517267530.0, nan, nan],\n",
       "       ['973b6ae5-4d8a-4be9-b1e1-10564a968e11',\n",
       "        '66dee376-e2b1-45c8-b468-2cf81d4fdead', 1516591571.0, nan, nan],\n",
       "       ['66dee376-e2b1-45c8-b468-2cf81d4fdead',\n",
       "        '973b6ae5-4d8a-4be9-b1e1-10564a968e11', 1516591571.0, nan, nan]], dtype=object)"
      ]
     },
     "execution_count": 20,
     "metadata": {},
     "output_type": "execute_result"
    }
   ],
   "source": [
    "analytics_data_final[analytics_data_final['event_start'].isna()].values"
   ]
  },
  {
   "cell_type": "code",
   "execution_count": 21,
   "metadata": {},
   "outputs": [],
   "source": [
    "analytics_data_final = analytics_data_final[analytics_data_final['event_start'].notna()].copy()"
   ]
  },
  {
   "cell_type": "code",
   "execution_count": 22,
   "metadata": {},
   "outputs": [],
   "source": [
    "analytics_data_final.reset_index(drop = True, inplace = True)"
   ]
  },
  {
   "cell_type": "markdown",
   "metadata": {},
   "source": [
    "### A function to determine whether a specific user is in Control or Experiment group. "
   ]
  },
  {
   "cell_type": "code",
   "execution_count": 23,
   "metadata": {},
   "outputs": [],
   "source": [
    "def assign_experiment(user_id):\n",
    "    char_list = (\"b\",\"c\",\"e\",\"f\",\"5\")\n",
    "    char = user_id[0]\n",
    "    if char in char_list:\n",
    "        result = \"Experiment\"\n",
    "    elif char not in char_list:\n",
    "        result = \"Control\"\n",
    "    return result"
   ]
  },
  {
   "cell_type": "code",
   "execution_count": 24,
   "metadata": {
    "scrolled": true
   },
   "outputs": [],
   "source": [
    "analytics_data_final['assignment'] = analytics_data_final['user_B'].apply(assign_experiment) "
   ]
  },
  {
   "cell_type": "markdown",
   "metadata": {},
   "source": [
    "Since user_B is the first one being followed, we should apply the above function to the column user_B"
   ]
  },
  {
   "cell_type": "code",
   "execution_count": 25,
   "metadata": {},
   "outputs": [],
   "source": [
    "analytics_data_final.drop(\"event_time\", axis = 1, inplace = True)"
   ]
  },
  {
   "cell_type": "code",
   "execution_count": 26,
   "metadata": {},
   "outputs": [],
   "source": [
    "analytics_data_final.to_csv(\"./data/clean_analytics.csv\", index = False)"
   ]
  },
  {
   "cell_type": "markdown",
   "metadata": {},
   "source": [
    "## Final notes for data cleaning and manipulation:\n",
    "1. I do not have the data for push notification happening, if I do I would double check that.\n",
    "2. Does using the first letter of the hashed user_id truly a truly random assignment process? I can not determine that since I do not know how the user_id is hashed. "
   ]
  }
 ],
 "metadata": {
  "kernelspec": {
   "display_name": "Python 3",
   "language": "python",
   "name": "python3"
  },
  "language_info": {
   "codemirror_mode": {
    "name": "ipython",
    "version": 3
   },
   "file_extension": ".py",
   "mimetype": "text/x-python",
   "name": "python",
   "nbconvert_exporter": "python",
   "pygments_lexer": "ipython3",
   "version": "3.6.7"
  }
 },
 "nbformat": 4,
 "nbformat_minor": 2
}
